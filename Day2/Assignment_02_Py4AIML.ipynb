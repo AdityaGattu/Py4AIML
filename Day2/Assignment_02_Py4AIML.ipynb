{
  "nbformat": 4,
  "nbformat_minor": 0,
  "metadata": {
    "colab": {
      "name": "Assignment 02 Py4AIML.ipynb",
      "provenance": [],
      "collapsed_sections": []
    },
    "kernelspec": {
      "name": "python3",
      "display_name": "Python 3"
    }
  },
  "cells": [
    {
      "cell_type": "markdown",
      "metadata": {
        "id": "2mChe0QrG97m",
        "colab_type": "text"
      },
      "source": [
        "Problem Statement 01\n",
        "\n",
        "Implement a program which returns the compressed string of a given string\n",
        "\n",
        "Explanation :  \n",
        "\n",
        "Reduce the length of the input string by replacing multiple continuous\n",
        "occurrences of the same character by a number and the character.\n",
        "\n",
        "Example\n",
        "\n",
        "Input: \"aaa\"\n",
        "\n",
        "Output: \"3a\"\n",
        "\n",
        "Input : \"qqqprqcccaa\"\n",
        "\n",
        "Output: \"3qprpq3caa\"\n"
      ]
    },
    {
      "cell_type": "code",
      "metadata": {
        "id": "ntnD7t8lDc3n",
        "colab_type": "code",
        "colab": {
          "base_uri": "https://localhost:8080/",
          "height": 52
        },
        "outputId": "ec4206ab-42a2-4d18-c2c2-c39329ac42af"
      },
      "source": [
        "def compressed_string(string1) :\n",
        "  resulted_str = \"\"\n",
        "  i=0\n",
        "  while(i!=len(string1)) :\n",
        "    count = 1\n",
        "    while( i < len(string1)-1 and string1[i] == string1[i+1] ) :\n",
        "       count += 1\n",
        "       i +=1\n",
        "    if count == 1 :\n",
        "       resulted_str +=string1[i]\n",
        "    if count > 1 :\n",
        "       resulted_str += string1[i] + str(count)  \n",
        "    i += 1\n",
        "  print(resulted_str)\n",
        "\n",
        "string1 = \"aaaa\"\n",
        "string2 = \"qqqprqcccaa\"\n",
        "compressed_string(string1)\n",
        "compressed_string(string2)\n",
        "\n"
      ],
      "execution_count": 1,
      "outputs": [
        {
          "output_type": "stream",
          "text": [
            "a4\n",
            "q3prqc3a2\n"
          ],
          "name": "stdout"
        }
      ]
    },
    {
      "cell_type": "markdown",
      "metadata": {
        "id": "ry7B2pCVHZtG",
        "colab_type": "text"
      },
      "source": [
        "Problem Statement 02 \n",
        "\n",
        "Find whether a given string has parentheses nested properly. \n",
        "Implement a function which accepts a string as an argument that contains a  text. Find whether the parentheses inside it are properly nested. \n",
        "\n",
        "Note: \n",
        "The string will only contain  open or/and closed parenthesis. \n",
        "\n",
        "Example:  \n",
        "input – ((()))  \n",
        "OutPut – True \n",
        "\n",
        "input – ()() \n",
        "OutPut – True \n",
        "\n",
        "input – (())) \n",
        "OutPut – False "
      ]
    },
    {
      "cell_type": "code",
      "metadata": {
        "id": "JNIKNpMFDdpj",
        "colab_type": "code",
        "colab": {
          "base_uri": "https://localhost:8080/",
          "height": 34
        },
        "outputId": "1f67296c-8f8d-4cc7-e5b7-7322ab0c7060"
      },
      "source": [
        "def check_ifnested(string) :\n",
        "  count = 0\n",
        "  for ele in m :\n",
        "    if ele == '(' :\n",
        "      count += 1\n",
        "    if ele == ')' :\n",
        "      count -=1\n",
        "    if count < 0 :\n",
        "      break\n",
        "  if count == 0 :\n",
        "    print(True)\n",
        "  else : \n",
        "    print(False)\n",
        "\n",
        "# y=\"((()))\"  z=\"(()))\"  m=\")((\"    h=\"()())\"\n",
        "\n",
        "string =\"(()))\"\n",
        "check_ifnested(string)"
      ],
      "execution_count": 25,
      "outputs": [
        {
          "output_type": "stream",
          "text": [
            "False\n"
          ],
          "name": "stdout"
        }
      ]
    },
    {
      "cell_type": "markdown",
      "metadata": {
        "id": "uLOknYCSH9AH",
        "colab_type": "text"
      },
      "source": [
        "Problem Statement 03 \n",
        "\n",
        "An anagram is a word or phrase formed by rearranging the letters of a different  word or phrase, typically using all the original letters exactly once.  \n",
        "For example, the word anagram can be rearranged into nag a ram, or the word  binary into brainy or the word adobe into abode. \n",
        "Given a list of strings, Implement a function(s) which will group anagrams  together. \n",
        "\n",
        "Example: \n",
        "\n",
        "Input: [\"eat\", \"tea\", \"tan\", \"ate\", \"nat\", \"bat\"]\n",
        "\n",
        "Output:  [   [\"ate\",\"eat\",\"tea\"],   [\"nat\",\"tan\"],   [\"bat\"]  ] \n",
        "\n",
        "Note: \n",
        "● All inputs will be in lowercase.  ● The order of your output does not matter"
      ]
    },
    {
      "cell_type": "code",
      "metadata": {
        "id": "vjcgQfk8Dndf",
        "colab_type": "code",
        "colab": {
          "base_uri": "https://localhost:8080/",
          "height": 34
        },
        "outputId": "bf3be2c6-0d60-4466-d89a-36b08cb80e08"
      },
      "source": [
        "from collections import defaultdict \n",
        "\n",
        "def group_anagrams(mylist):\n",
        "  temp = defaultdict(list)    # key_error\n",
        "  for ele in mylist: \n",
        "     temp[str(sorted(ele))].append(ele) \n",
        "  res = list(temp.values()) \n",
        "  print(res) \n",
        "\n",
        "\n",
        "mylist = [\"eat\", \"tea\", \"tan\", \"ate\", \"nat\", \"bat\"]\n",
        "group_anagrams(mylist)"
      ],
      "execution_count": 19,
      "outputs": [
        {
          "output_type": "stream",
          "text": [
            "[['eat', 'tea', 'ate'], ['tan', 'nat'], ['bat']]\n"
          ],
          "name": "stdout"
        }
      ]
    },
    {
      "cell_type": "code",
      "metadata": {
        "id": "rgBwVmxSDtNY",
        "colab_type": "code",
        "colab": {}
      },
      "source": [
        ""
      ],
      "execution_count": 0,
      "outputs": []
    }
  ]
}