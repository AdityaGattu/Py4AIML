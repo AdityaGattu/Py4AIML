{
  "nbformat": 4,
  "nbformat_minor": 0,
  "metadata": {
    "colab": {
      "name": "Py4AIML Assignment 01.ipynb",
      "provenance": [],
      "collapsed_sections": []
    },
    "kernelspec": {
      "name": "python3",
      "display_name": "Python 3"
    }
  },
  "cells": [
    {
      "cell_type": "markdown",
      "metadata": {
        "id": "f0NCCZbghRX3",
        "colab_type": "text"
      },
      "source": [
        "Problem Statement 01\n",
        "\n",
        "Write a function(s) to check if a given number is a strong number or not\n",
        "** A strong number is a number in which the sum of the factorial of the digits\n",
        "is equal to the number itself.\n",
        "\n",
        "Example:\n",
        "\n",
        "145 since 1! + 4! + 5! = 1 + 24 + 120 = 145\n",
        "Name of function:   isStrongnumber() which accepts an integer and returns True\n",
        "or False\n",
        "\n",
        "1) isStrongnumber(145) then return True.\n",
        "\n",
        "2) isStrongnumber(123) then return False.\n"
      ]
    },
    {
      "cell_type": "code",
      "metadata": {
        "id": "UVP96qC8gdOj",
        "colab_type": "code",
        "colab": {}
      },
      "source": [
        "def fact(n): \n",
        "  prod=1 \n",
        "  for i in range(1,n+1):\n",
        "     prod= prod*i\n",
        "  return prod"
      ],
      "execution_count": 0,
      "outputs": []
    },
    {
      "cell_type": "code",
      "metadata": {
        "id": "6VOgGd_ygpHW",
        "colab_type": "code",
        "colab": {}
      },
      "source": [
        "def isStrongnumber(num):\n",
        "  compare_num=num\n",
        "  sum = 0 \n",
        "  while num > 0:\n",
        "    x = num % 10\n",
        "    num = num // 10\n",
        "    sum += factorial(x)\n",
        "  return sum == compare_num "
      ],
      "execution_count": 0,
      "outputs": []
    },
    {
      "cell_type": "code",
      "metadata": {
        "id": "BNMMzgi_gqPu",
        "colab_type": "code",
        "colab": {
          "base_uri": "https://localhost:8080/",
          "height": 34
        },
        "outputId": "826f39f9-aa54-4cd1-a567-019dde6764f3"
      },
      "source": [
        "print(isStrongnumber(145))"
      ],
      "execution_count": 102,
      "outputs": [
        {
          "output_type": "stream",
          "text": [
            "True\n"
          ],
          "name": "stdout"
        }
      ]
    },
    {
      "cell_type": "code",
      "metadata": {
        "id": "w_wLbwYnhCwW",
        "colab_type": "code",
        "colab": {
          "base_uri": "https://localhost:8080/",
          "height": 34
        },
        "outputId": "778be39c-5ea7-403f-d4c2-ce371f7b3f91"
      },
      "source": [
        "print(isStrongnumber(123))"
      ],
      "execution_count": 103,
      "outputs": [
        {
          "output_type": "stream",
          "text": [
            "False\n"
          ],
          "name": "stdout"
        }
      ]
    },
    {
      "cell_type": "markdown",
      "metadata": {
        "id": "RALLSYmqhqlg",
        "colab_type": "text"
      },
      "source": [
        "Problem Statement 02\n",
        "\n",
        "Write a function(s) to find all 3 digit Armstrong numbers\n",
        "** An Armstrong number of three digits is an integer such that the sum of the\n",
        "cubes of its digits is equal to the number itself.\n",
        "\n",
        "Example:\n",
        "\n",
        "371 is an Armstrong number since 3**3 + 7**3 + 1**3 = 371."
      ]
    },
    {
      "cell_type": "code",
      "metadata": {
        "id": "ej0PGlbpIzTp",
        "colab_type": "code",
        "colab": {}
      },
      "source": [
        "def Armstrong_number(num):\n",
        "  compare_num=num\n",
        "  sum=0\n",
        "  while num>0:\n",
        "    x = num % 10\n",
        "    sum+= x**3\n",
        "    num = num // 10  \n",
        "  return sum == compare_num \n"
      ],
      "execution_count": 0,
      "outputs": []
    },
    {
      "cell_type": "code",
      "metadata": {
        "id": "OeJtjdqxKod3",
        "colab_type": "code",
        "colab": {
          "base_uri": "https://localhost:8080/",
          "height": 34
        },
        "outputId": "3b87dc70-4ca2-438b-da3a-59b63ccaea3f"
      },
      "source": [
        "n=100\n",
        "while n < 1000:\n",
        "  if Armstrong_number(n) == True : \n",
        "    print(n,end=\" \")\n",
        "  n+=1\n",
        "\n"
      ],
      "execution_count": 96,
      "outputs": [
        {
          "output_type": "stream",
          "text": [
            "153 370 371 407 "
          ],
          "name": "stdout"
        }
      ]
    },
    {
      "cell_type": "markdown",
      "metadata": {
        "id": "hyKQjtfbh0p7",
        "colab_type": "text"
      },
      "source": [
        "Problem Statement 03\n",
        "\n",
        "Implement a function which returns True if the argument given is Prime\n",
        "number otherwise False\n",
        "Example:\n",
        "\n",
        "Name of function: isPrime() which accepts an integer and returns True or False\n",
        "\n",
        "1) isPrime(11) then return True.\n",
        "\n",
        "2) isPrime(4) then return False.\n"
      ]
    },
    {
      "cell_type": "code",
      "metadata": {
        "id": "3uCTVfaBeI5j",
        "colab_type": "code",
        "colab": {}
      },
      "source": [
        "import math\n",
        "\n",
        "def isPrime(num):\n",
        "  for i in range(2,int(math.sqrt(num))+1):\n",
        "    #print(i)\n",
        "    if num % i == 0 :\n",
        "      return False\n",
        "  return True"
      ],
      "execution_count": 0,
      "outputs": []
    },
    {
      "cell_type": "code",
      "metadata": {
        "id": "jceAd8paieXO",
        "colab_type": "code",
        "colab": {
          "base_uri": "https://localhost:8080/",
          "height": 34
        },
        "outputId": "5909e694-5187-4190-f779-95484c43cc46"
      },
      "source": [
        "isPrime(11)"
      ],
      "execution_count": 125,
      "outputs": [
        {
          "output_type": "execute_result",
          "data": {
            "text/plain": [
              "True"
            ]
          },
          "metadata": {
            "tags": []
          },
          "execution_count": 125
        }
      ]
    },
    {
      "cell_type": "code",
      "metadata": {
        "id": "PbE3CMjSig3P",
        "colab_type": "code",
        "colab": {
          "base_uri": "https://localhost:8080/",
          "height": 34
        },
        "outputId": "37f0a9bc-25d0-4d4a-971b-295489581a9a"
      },
      "source": [
        "isPrime(4)"
      ],
      "execution_count": 126,
      "outputs": [
        {
          "output_type": "execute_result",
          "data": {
            "text/plain": [
              "False"
            ]
          },
          "metadata": {
            "tags": []
          },
          "execution_count": 126
        }
      ]
    },
    {
      "cell_type": "markdown",
      "metadata": {
        "id": "6x_kw0efjupL",
        "colab_type": "text"
      },
      "source": [
        "Problem Statement 04\n",
        "\n",
        "If we list all the natural numbers below 10 that are multiples of 3 or 5, we get\n",
        "3, 5, 6 and 9. The sum of these multiples is 23.\n",
        "\n",
        "Implement a function to find the sum of all the multiples of 3 or 5 below 1000\n"
      ]
    },
    {
      "cell_type": "code",
      "metadata": {
        "id": "o4tJS4Oejmbw",
        "colab_type": "code",
        "colab": {}
      },
      "source": [
        "def multiple(num):\n",
        "  if num%3 ==0 or num%5 == 0:\n",
        "    return True\n",
        "  return False"
      ],
      "execution_count": 0,
      "outputs": []
    },
    {
      "cell_type": "code",
      "metadata": {
        "id": "9miK-bT-ksVb",
        "colab_type": "code",
        "colab": {
          "base_uri": "https://localhost:8080/",
          "height": 34
        },
        "outputId": "a63b0c75-71c7-41c9-f05c-252ba2ad11de"
      },
      "source": [
        "n=1\n",
        "sum = 0\n",
        "while n < 1000:\n",
        "  if multiple(n):\n",
        "    sum+=n\n",
        "    #print(sum)\n",
        "  n += 1\n",
        "print(sum)"
      ],
      "execution_count": 136,
      "outputs": [
        {
          "output_type": "stream",
          "text": [
            "233168\n"
          ],
          "name": "stdout"
        }
      ]
    },
    {
      "cell_type": "code",
      "metadata": {
        "id": "yPKdU-VnljNs",
        "colab_type": "code",
        "colab": {}
      },
      "source": [
        ""
      ],
      "execution_count": 0,
      "outputs": []
    }
  ]
}