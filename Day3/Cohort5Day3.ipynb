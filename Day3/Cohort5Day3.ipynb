{
  "nbformat": 4,
  "nbformat_minor": 0,
  "metadata": {
    "colab": {
      "name": "Cohort5Day3.ipynb",
      "provenance": [],
      "collapsed_sections": []
    },
    "kernelspec": {
      "name": "python3",
      "display_name": "Python 3"
    }
  },
  "cells": [
    {
      "cell_type": "code",
      "metadata": {
        "id": "ysUMinqbzszF",
        "colab_type": "code",
        "outputId": "89dcaab7-992b-49d0-ffd0-7bed73135cd7",
        "colab": {
          "base_uri": "https://localhost:8080/",
          "height": 34
        }
      },
      "source": [
        "def strChange(text):\n",
        "  return text.upper()+'!'\n",
        "#strChange('talentsprint')\n",
        "example = strChange\n",
        "example('testdata')\n",
        "\n",
        "# lambda text : text.upper()"
      ],
      "execution_count": 0,
      "outputs": [
        {
          "output_type": "execute_result",
          "data": {
            "text/plain": [
              "'TESTDATA!'"
            ]
          },
          "metadata": {
            "tags": []
          },
          "execution_count": 13
        }
      ]
    },
    {
      "cell_type": "code",
      "metadata": {
        "id": "X5Bc1aT45Fjn",
        "colab_type": "code",
        "outputId": "1e643797-2990-4467-f778-57b183f0348a",
        "colab": {
          "base_uri": "https://localhost:8080/",
          "height": 34
        }
      },
      "source": [
        "def sample_functionpass(text,f):\n",
        "  return f(text)\n",
        "\n",
        "sample_functionpass('habeeb',strChange)"
      ],
      "execution_count": 0,
      "outputs": [
        {
          "output_type": "execute_result",
          "data": {
            "text/plain": [
              "'HABEEB!'"
            ]
          },
          "metadata": {
            "tags": []
          },
          "execution_count": 14
        }
      ]
    },
    {
      "cell_type": "markdown",
      "metadata": {
        "id": "_-17K25E54mG",
        "colab_type": "text"
      },
      "source": [
        "![alt text](https://raw.githubusercontent.com/mdhabeebvulla/samples/master/shape2.png)"
      ]
    },
    {
      "cell_type": "code",
      "metadata": {
        "id": "O-RXNWoF5-3Y",
        "colab_type": "code",
        "outputId": "2acfd44a-acc6-4f22-daa9-c88f5d0adf26",
        "colab": {
          "base_uri": "https://localhost:8080/",
          "height": 68
        }
      },
      "source": [
        "from math import pi,sqrt\n",
        "def rsquare(r):\n",
        "  return r*r \n",
        "# 1 , pi ,3sqrt(3)*0.5\n",
        "\n",
        "def shape_area(r,rsquare,const):\n",
        "  return rsquare(r)*const\n",
        "\n",
        "print('Area of Square is  ',shape_area(3,rsquare,1))\n",
        "print('Area of circle is  ',shape_area(3,rsquare,pi))\n",
        "print('Area of hexagon is  ',shape_area(3,rsquare,3*sqrt(3)*0.5))\n",
        "\n",
        "def shape_area(r,const):\n",
        "  return (lambda r : r * r)(r)*const\n"
      ],
      "execution_count": 0,
      "outputs": [
        {
          "output_type": "stream",
          "text": [
            "Area of Square is   9\n",
            "Area of circle is   28.274333882308138\n",
            "Area of hexagon is   23.382685902179844\n"
          ],
          "name": "stdout"
        }
      ]
    },
    {
      "cell_type": "code",
      "metadata": {
        "id": "1FzdKbY98CvV",
        "colab_type": "code",
        "outputId": "839bf067-e3bd-4219-e782-47fa6f4d482f",
        "colab": {
          "base_uri": "https://localhost:8080/",
          "height": 34
        }
      },
      "source": [
        "a = lambda r : r * r\n",
        "print(a(3))"
      ],
      "execution_count": 0,
      "outputs": [
        {
          "output_type": "stream",
          "text": [
            "9\n"
          ],
          "name": "stdout"
        }
      ]
    },
    {
      "cell_type": "code",
      "metadata": {
        "id": "dItJiccL8lBA",
        "colab_type": "code",
        "outputId": "65c269fd-206f-4783-9800-8f137054b180",
        "colab": {
          "base_uri": "https://localhost:8080/",
          "height": 34
        }
      },
      "source": [
        "print((lambda r : r * r)(3))"
      ],
      "execution_count": 0,
      "outputs": [
        {
          "output_type": "stream",
          "text": [
            "9\n"
          ],
          "name": "stdout"
        }
      ]
    },
    {
      "cell_type": "code",
      "metadata": {
        "id": "Wty8XM13-BrQ",
        "colab_type": "code",
        "outputId": "468e0028-9ef0-4cac-fbc9-399dc104b452",
        "colab": {
          "base_uri": "https://localhost:8080/",
          "height": 34
        }
      },
      "source": [
        "t = lambda x : x+2 if x>=30 else x+10\n",
        "print(t(50))\n",
        "\n",
        "#lambda parameter : return "
      ],
      "execution_count": 0,
      "outputs": [
        {
          "output_type": "stream",
          "text": [
            "52\n"
          ],
          "name": "stdout"
        }
      ]
    },
    {
      "cell_type": "code",
      "metadata": {
        "id": "FiTZ5nWwABIF",
        "colab_type": "code",
        "colab": {}
      },
      "source": [
        ""
      ],
      "execution_count": 0,
      "outputs": []
    },
    {
      "cell_type": "markdown",
      "metadata": {
        "id": "JKDtZBAA_Agy",
        "colab_type": "text"
      },
      "source": [
        "#MAP\n",
        "\n"
      ]
    },
    {
      "cell_type": "code",
      "metadata": {
        "id": "kF5ONedAA3g2",
        "colab_type": "code",
        "outputId": "8fc54416-c88f-48ad-ca15-e32f8fc87ced",
        "colab": {
          "base_uri": "https://localhost:8080/",
          "height": 68
        }
      },
      "source": [
        "sample_lst = ['Hyderabad','PUNE','chennai','Banglore']\n",
        "\n",
        "new_lst = list(map(str.capitalize,sample_lst))\n",
        "lambda_lst = list(map(lambda s : s[:1].upper() + s[1:].lower(),sample_lst))\n",
        "\n",
        "new_len =list(map(len,sample_lst))\n",
        "\n",
        "print(new_lst)\n",
        "print(lambda_lst)\n",
        "print(new_len)\n",
        "[(lambda s:s.lower())(s) for s in sample_lst]\n"
      ],
      "execution_count": 0,
      "outputs": [
        {
          "output_type": "stream",
          "text": [
            "['Hyderabad', 'Pune', 'Chennai', 'Banglore']\n",
            "['Hyderabad', 'Pune', 'Chennai', 'Banglore']\n",
            "[9, 4, 7, 8]\n"
          ],
          "name": "stdout"
        }
      ]
    },
    {
      "cell_type": "markdown",
      "metadata": {
        "id": "irsKRFZhDhiO",
        "colab_type": "text"
      },
      "source": [
        "#FILTER\n"
      ]
    },
    {
      "cell_type": "code",
      "metadata": {
        "id": "HDinSQN4EYVm",
        "colab_type": "code",
        "outputId": "6f6bc527-a233-419b-eaf2-30b5f5c052e0",
        "colab": {
          "base_uri": "https://localhost:8080/",
          "height": 34
        }
      },
      "source": [
        "sample_lst = ['Hyderabad','PUNE','chennai','Banglore','Humayunnagar']\n",
        "\n",
        "new_filter = list(filter(lambda s :s.startswith('H'),sample_lst)) \n",
        "\n",
        "print(new_filter)\n"
      ],
      "execution_count": 0,
      "outputs": [
        {
          "output_type": "stream",
          "text": [
            "['Hyderabad', 'Humayunnagar']\n"
          ],
          "name": "stdout"
        }
      ]
    },
    {
      "cell_type": "markdown",
      "metadata": {
        "id": "EWU0MPBMFVrN",
        "colab_type": "text"
      },
      "source": [
        "#REDUCE\n"
      ]
    },
    {
      "cell_type": "code",
      "metadata": {
        "id": "meJ-c9gvGCCc",
        "colab_type": "code",
        "outputId": "865cf10e-3bae-4a50-9344-2886d6b897bb",
        "colab": {
          "base_uri": "https://localhost:8080/",
          "height": 34
        }
      },
      "source": [
        "import operator\n",
        "\n",
        "from functools import reduce\n",
        "funcs = [str.upper ,str.lower.str.capitalize]\n",
        "\n",
        "result = reduce(operator.mul,[1,2,3,4,5])\n",
        "\n",
        "print(result)\n",
        "operator?"
      ],
      "execution_count": 0,
      "outputs": [
        {
          "output_type": "stream",
          "text": [
            "120\n"
          ],
          "name": "stdout"
        }
      ]
    },
    {
      "cell_type": "code",
      "metadata": {
        "id": "SFKoGjb0H5a4",
        "colab_type": "code",
        "outputId": "8a7d3415-c3ee-4329-e99f-e20c93608c34",
        "colab": {
          "base_uri": "https://localhost:8080/",
          "height": 51
        }
      },
      "source": [
        "import numpy as np\n",
        "arr1 = np.arange(500)\n",
        "list_arr = range(500)\n",
        "\n",
        "%timeit -n10 x =[val * 5 for val in list_arr]\n",
        "%timeit -n10 y = arr1*5"
      ],
      "execution_count": 0,
      "outputs": [
        {
          "output_type": "stream",
          "text": [
            "10 loops, best of 3: 44.9 µs per loop\n",
            "10 loops, best of 3: 2.14 µs per loop\n"
          ],
          "name": "stdout"
        }
      ]
    },
    {
      "cell_type": "code",
      "metadata": {
        "id": "oUdsPOezJlDo",
        "colab_type": "code",
        "outputId": "94659cbc-90f1-4729-cb5f-3c6dacbd7920",
        "colab": {
          "base_uri": "https://localhost:8080/",
          "height": 187
        }
      },
      "source": [
        "scalar = np.array(2)\n",
        "print(scalar) #scalar \n",
        "\n",
        "vector1 = np.array([1, 2, 3, 4, 5])\n",
        "print(vector1)\n",
        "\n",
        "matr = np.array([[1,2],[3,4]])\n",
        "print(matr)\n",
        "print()\n",
        "tens = np.array([[[1,2],[3,4]],[[1,2],[3,4]]])\n",
        "print(tens)"
      ],
      "execution_count": 0,
      "outputs": [
        {
          "output_type": "stream",
          "text": [
            "2\n",
            "[1 2 3 4 5]\n",
            "[[1 2]\n",
            " [3 4]]\n",
            "\n",
            "[[[1 2]\n",
            "  [3 4]]\n",
            "\n",
            " [[1 2]\n",
            "  [3 4]]]\n"
          ],
          "name": "stdout"
        }
      ]
    }
  ]
}