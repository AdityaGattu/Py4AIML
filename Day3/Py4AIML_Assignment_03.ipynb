{
  "nbformat": 4,
  "nbformat_minor": 0,
  "metadata": {
    "colab": {
      "name": "Py4AIML Assignment 03.ipynb",
      "provenance": [],
      "private_outputs": true,
      "collapsed_sections": []
    },
    "kernelspec": {
      "name": "python3",
      "display_name": "Python 3"
    }
  },
  "cells": [
    {
      "cell_type": "markdown",
      "metadata": {
        "id": "9rVMhZ0lz7ow",
        "colab_type": "text"
      },
      "source": [
        "### Q1. Use Higher Order Function which takes  \n",
        "###      [[1, 2], [3, 4], [ ], [5],[2,3]]  \n",
        "###      output : [1, 2, 3, 4, 5, 2, 3]"
      ]
    },
    {
      "cell_type": "code",
      "metadata": {
        "id": "__Mj6su11gG9",
        "colab_type": "code",
        "colab": {}
      },
      "source": [
        "mynewlist = [[1, 2], [3, 4], [ ], [5],[2,3]]\n",
        "#using function as parameter in another function\n",
        "\n",
        "import itertools\n",
        "print(list(itertools.chain.from_iterable(mynewlist)))\n",
        "\n",
        "def combine(mynewlist) :\n",
        "  res = []\n",
        "  for ele in mynewlist :\n",
        "    for inner_ele in ele :\n",
        "      res.append(inner_ele)\n",
        "  return res\n",
        "\n",
        "def higher_order_func(mynewlist,f) :\n",
        "   return f(mynewlist)\n",
        "\n",
        "#print(combine(mynewlist))\n",
        "print(higher_order_func(mynewlist ,combine))\n",
        "\n",
        "sum(mynewlist,[])\n",
        "\n",
        "\n",
        "\n"
      ],
      "execution_count": 0,
      "outputs": []
    },
    {
      "cell_type": "markdown",
      "metadata": {
        "id": "HL-H72NT1IVq",
        "colab_type": "text"
      },
      "source": [
        "### Q2. Define a strong_number function which checks given number is a strong number. Use this function to pass into strong_number_list(list, strong_number) which prints strongs numbers in a given list."
      ]
    },
    {
      "cell_type": "code",
      "metadata": {
        "id": "PmkIrxuy1jSc",
        "colab_type": "code",
        "colab": {}
      },
      "source": [
        "def fact(n): \n",
        "  prod=1 \n",
        "  for i in range(1,n+1):\n",
        "     prod= prod*i\n",
        "  return prod\n",
        "\n",
        "def strong_number(num):\n",
        "  compare_num=num\n",
        "  sum = 0 \n",
        "  while num > 0:\n",
        "    x = num % 10\n",
        "    num = num // 10\n",
        "    sum += fact(x)\n",
        "  return sum == compare_num\n",
        "\n",
        "def strong_number_list(newlist, strong_number) :\n",
        "   #res = list(filter(lambda x : x if strong_number(x) else (),newlist))\n",
        "   res = list(filter(lambda x : strong_number(x),newlist))\n",
        "   return res\n",
        "\n",
        "newlist = [145,123,678]\n",
        "print(strong_number_list(newlist,strong_number))\n"
      ],
      "execution_count": 0,
      "outputs": []
    },
    {
      "cell_type": "markdown",
      "metadata": {
        "id": "YG_jq2ZF-0Cb",
        "colab_type": "text"
      },
      "source": [
        "### Q3.Example piecewise function,\n",
        "###f(x) = $\n",
        "\\cases{\n",
        "x^2      &   $x\\lt 1 $\\cr\n",
        "3-x     &   $x\\ge 1$\n",
        "}$\n",
        "\n"
      ]
    },
    {
      "cell_type": "code",
      "metadata": {
        "id": "L7WT3o8XO04J",
        "colab_type": "code",
        "colab": {}
      },
      "source": [
        "def lower_func(y) :\n",
        "  return (lambda x : x**2)(y) \n",
        "\n",
        "def upper_func(y) :\n",
        "  return (lambda x : 3-x)(y)\n",
        "  \n",
        "def piecewise(lower_func, upper_func, cutoff):\n",
        "  def f(x):\n",
        "    if x < cutoff:\n",
        "      return lower_func(x)\n",
        "    else:\n",
        "      return upper_func(x)\n",
        "  return f\n",
        "\n",
        "#Execute piecewise function parmameters using anonymous lambda functions and a cutoff vaulue as 1 \n",
        "#Expected Output\n",
        " #f(0.5)  is  0.16  after rounded to two decimal points\n",
        " #f(5)   is -2\n",
        "\n",
        "\n",
        "\n",
        "answer = piecewise(lower_func,upper_func,1)\n",
        "print(answer(0.5))\n",
        "print(answer(5))\n",
        "\n"
      ],
      "execution_count": 0,
      "outputs": []
    },
    {
      "cell_type": "markdown",
      "metadata": {
        "id": "cEBfZ9dJRpOR",
        "colab_type": "text"
      },
      "source": [
        "### Q4. Write Function which returns, not the first, but the last element in the list that is divisible by the parameter divisor."
      ]
    },
    {
      "cell_type": "code",
      "metadata": {
        "id": "NzhheS1XRvmP",
        "colab_type": "code",
        "colab": {}
      },
      "source": [
        "divisible_list = [12, 65, 54, 39, 155, 335, 225]\n",
        "\n",
        "def divisible(divisible_list,n) :\n",
        "  result = list(filter(lambda x : x % n ==0 ,divisible_list))\n",
        "  return result[-1]\n",
        "\n",
        "print(divisible(divisible_list,5))\n"
      ],
      "execution_count": 0,
      "outputs": []
    },
    {
      "cell_type": "markdown",
      "metadata": {
        "id": "zbuVSZpNSfTI",
        "colab_type": "text"
      },
      "source": [
        "### Q5. Complete  the  following  function  definition  so  that  it  finds  the  first  pair  of adjacent items in the input list that are in descending order, and returns the index of the first element of the pair. If there is no such pair, it returns None.  Example:\n"
      ]
    },
    {
      "cell_type": "code",
      "metadata": {
        "id": "eg3d-bvASkXZ",
        "colab_type": "code",
        "colab": {}
      },
      "source": [
        "mylist = [1,3,4,6,8,7,6]\n",
        "def pair_search(mylist) :\n",
        "  i = 0\n",
        "  for ele in mylist :\n",
        "    if mylist[i] > mylist[i+1] :\n",
        "       return i\n",
        "    i +=1\n",
        "  return None\n",
        "print(pair_search(mylist))\n",
        "\n",
        "#output   4\n",
        "\n"
      ],
      "execution_count": 0,
      "outputs": []
    },
    {
      "cell_type": "code",
      "metadata": {
        "id": "WP7ldE1BycfX",
        "colab_type": "code",
        "colab": {}
      },
      "source": [
        ""
      ],
      "execution_count": 0,
      "outputs": []
    }
  ]
}