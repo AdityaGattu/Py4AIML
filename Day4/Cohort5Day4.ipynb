{
  "nbformat": 4,
  "nbformat_minor": 0,
  "metadata": {
    "colab": {
      "name": "Cohort5Day4.ipynb",
      "provenance": []
    },
    "kernelspec": {
      "name": "python3",
      "display_name": "Python 3"
    }
  },
  "cells": [
    {
      "cell_type": "code",
      "metadata": {
        "id": "URsZNnyeAiZJ",
        "colab_type": "code",
        "outputId": "0bde9942-68a5-47e0-9f6e-b024c0349235",
        "colab": {
          "base_uri": "https://localhost:8080/",
          "height": 68
        }
      },
      "source": [
        "import numpy as np\n",
        "A = np.ndarray(shape=(2,3),dtype= 'int')\n",
        "print(A.shape)\n",
        "print('Number of Rows ',A.shape[0])\n",
        "print('Number Columns ',A.shape[1])"
      ],
      "execution_count": 0,
      "outputs": [
        {
          "output_type": "stream",
          "text": [
            "(2, 3)\n",
            "Number of Rows  2\n",
            "Number Columns  3\n"
          ],
          "name": "stdout"
        }
      ]
    },
    {
      "cell_type": "code",
      "metadata": {
        "id": "gZR-U-L8CF1p",
        "colab_type": "code",
        "outputId": "cc616af6-8717-4b28-ca41-20020df01092",
        "colab": {
          "base_uri": "https://localhost:8080/",
          "height": 153
        }
      },
      "source": [
        "for i in range(A.shape[0]):\n",
        "  for j in range(A.shape[1]):\n",
        "    A[i][j] = input()\n",
        "\n",
        "print(A)"
      ],
      "execution_count": 0,
      "outputs": [
        {
          "output_type": "stream",
          "text": [
            "1\n",
            "2\n",
            "3\n",
            "4\n",
            "5\n",
            "6\n",
            "[[1 2 3]\n",
            " [4 5 6]]\n"
          ],
          "name": "stdout"
        }
      ]
    },
    {
      "cell_type": "code",
      "metadata": {
        "id": "93i5jmEdDi5E",
        "colab_type": "code",
        "outputId": "51ad710f-5d73-47c4-d025-6694ae601b15",
        "colab": {
          "base_uri": "https://localhost:8080/",
          "height": 221
        }
      },
      "source": [
        "C = np.arange(1,5).reshape(2,-1)  #reshape(2,-1)\n",
        "D = np.arange(1,5).reshape(2,2)\n",
        "print(C)\n",
        "print(D)\n",
        "print('Simple Array Multiplication')\n",
        "print(C * D)\n",
        "print('Matrix Multiplication')\n",
        "print(C@D)\n",
        "print(C.T)"
      ],
      "execution_count": 0,
      "outputs": [
        {
          "output_type": "stream",
          "text": [
            "[[1 2]\n",
            " [3 4]]\n",
            "[[1 2]\n",
            " [3 4]]\n",
            "Simple Array Multiplication\n",
            "[[ 1  4]\n",
            " [ 9 16]]\n",
            "Matrix Multiplication\n",
            "[[ 7 10]\n",
            " [15 22]]\n",
            "[[1 3]\n",
            " [2 4]]\n"
          ],
          "name": "stdout"
        }
      ]
    },
    {
      "cell_type": "code",
      "metadata": {
        "id": "DOgYxD1XHbHD",
        "colab_type": "code",
        "outputId": "f7edb88b-2700-49b1-c193-d648305f9f7b",
        "colab": {
          "base_uri": "https://localhost:8080/",
          "height": 51
        }
      },
      "source": [
        "arr = np.repeat(6,8).reshape(2,4)\n",
        "print(arr)"
      ],
      "execution_count": 0,
      "outputs": [
        {
          "output_type": "stream",
          "text": [
            "[[6 6 6 6]\n",
            " [6 6 6 6]]\n"
          ],
          "name": "stdout"
        }
      ]
    },
    {
      "cell_type": "code",
      "metadata": {
        "id": "pzF3s0BuJttW",
        "colab_type": "code",
        "outputId": "1a92fa8d-59fa-4e5c-caee-a65a39815a69",
        "colab": {
          "base_uri": "https://localhost:8080/",
          "height": 119
        }
      },
      "source": [
        "s =90\n",
        "class Student:\n",
        "  name = 'Potter'\n",
        "  id_number = 1234\n",
        "  \n",
        "  def __new__(self,*args):\n",
        "    print('New function is called')\n",
        "    student = object.__new__(self)\n",
        "    return student\n",
        "\n",
        "  def __repr__(self):\n",
        "    return (f'student Name {self.name},and his id is {str(self.id_number)}')\n",
        "    \n",
        "  def __init__(self,name,id):\n",
        "    self.name = name\n",
        "    self.id_number = id \n",
        "  def add_student(self):\n",
        "    print('Please Enter Details of new student is')\n",
        "    self.name = input('Enter name ')\n",
        "    self.id_number = int(input('Enter ID'))\n",
        "\n",
        "student1 = Student('John',98989)\n",
        "print(student1)\n",
        "student1.add_student()\n",
        "student1\n",
        "\n"
      ],
      "execution_count": 0,
      "outputs": [
        {
          "output_type": "stream",
          "text": [
            "New function is called\n",
            "student Name John,and his id is 98989\n",
            "Please Enter Details of new student is\n",
            "Enter name arun\n",
            "Enter ID123345\n"
          ],
          "name": "stdout"
        },
        {
          "output_type": "execute_result",
          "data": {
            "text/plain": [
              "student Name arun,and his id is 123345"
            ]
          },
          "metadata": {
            "tags": []
          },
          "execution_count": 53
        }
      ]
    }
  ]
}