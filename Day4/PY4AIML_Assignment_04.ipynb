{
  "nbformat": 4,
  "nbformat_minor": 0,
  "metadata": {
    "colab": {
      "name": "PY4AIML Assignment 04.ipynb",
      "provenance": [],
      "private_outputs": true,
      "collapsed_sections": []
    },
    "kernelspec": {
      "name": "python3",
      "display_name": "Python 3"
    }
  },
  "cells": [
    {
      "cell_type": "markdown",
      "metadata": {
        "id": "v02A3rgEQjwF",
        "colab_type": "text"
      },
      "source": [
        "## Numpy"
      ]
    },
    {
      "cell_type": "markdown",
      "metadata": {
        "id": "b9SVflglRDWk",
        "colab_type": "text"
      },
      "source": [
        "\n",
        "### Exercise 01: Form an array using np.arange which contains all even numbers. 10 to 30\n"
      ]
    },
    {
      "cell_type": "code",
      "metadata": {
        "id": "l32CNHMX6bH5",
        "colab_type": "code",
        "colab": {}
      },
      "source": [
        "import numpy as np\n",
        "\n",
        "print(np.arange(10,31,2))"
      ],
      "execution_count": 0,
      "outputs": []
    },
    {
      "cell_type": "markdown",
      "metadata": {
        "id": "9fMPdoYO_6TX",
        "colab_type": "text"
      },
      "source": [
        "### Exercise 02: Create an array of evenly spaced numbers upto 24 as one dimentional and reshape it to (2,4,3)"
      ]
    },
    {
      "cell_type": "code",
      "metadata": {
        "id": "dXSX1GNSAFiN",
        "colab_type": "code",
        "colab": {}
      },
      "source": [
        "my_arr = np.arange(0,48,2)\n",
        "my_arr.reshape(2,4,3)"
      ],
      "execution_count": 0,
      "outputs": []
    },
    {
      "cell_type": "markdown",
      "metadata": {
        "id": "TNt1VdKj7r73",
        "colab_type": "text"
      },
      "source": [
        "### Exercise 03: Get [1, 4, 5] from [[1, 2], [3, 4], [5, 6]] using indexing"
      ]
    },
    {
      "cell_type": "code",
      "metadata": {
        "id": "OaimSeaQ8UaZ",
        "colab_type": "code",
        "colab": {}
      },
      "source": [
        "given_arr = [[1, 2], [3, 4], [5, 6]]\n",
        "res = []\n",
        "res.append( given_arr[0][0] )\n",
        "res.append( given_arr[1][1] )\n",
        "res.append( given_arr[2][0] )\n",
        "print(res)"
      ],
      "execution_count": 0,
      "outputs": []
    },
    {
      "cell_type": "markdown",
      "metadata": {
        "id": "PFbNeshi8GZD",
        "colab_type": "text"
      },
      "source": [
        "### Exercise 04: From the given array [[ 0, 1, 2],[ 3, 4, 5],[ 6, 7, 8],[ 9, 10, 11]] form an array containing elements greater than 5"
      ]
    },
    {
      "cell_type": "code",
      "metadata": {
        "id": "OjN9QYQh8YHR",
        "colab_type": "code",
        "colab": {}
      },
      "source": [
        "arr = [[ 0, 1, 2],[ 3, 4, 5],[ 6, 7, 8],[ 9, 10, 11]] \n",
        "total_arr = sum(arr,[])\n",
        "ans = []\n",
        "for ele in total_arr :\n",
        "  if ele > 5 :\n",
        "    ans.append(ele)\n",
        "\n",
        "print(ans)\n"
      ],
      "execution_count": 0,
      "outputs": []
    },
    {
      "cell_type": "markdown",
      "metadata": {
        "id": "xSRBJNdV8ipU",
        "colab_type": "text"
      },
      "source": [
        "### Exercise 05: Add given two arrays [[ 0.0, 0.0, 0.0],[10.0,10.0,10.0], [20.0,20.0,20.0],[30.0,30.0,30.0]] and [1.0,2.0,3.0]"
      ]
    },
    {
      "cell_type": "code",
      "metadata": {
        "id": "7FE8SmE68p-g",
        "colab_type": "code",
        "colab": {}
      },
      "source": [
        "arr1 = np.array([[ 0.0, 0.0, 0.0],[10.0,10.0,10.0], [20.0,20.0,20.0],[30.0,30.0,30.0]])\n",
        "arr2 = np.array([1.0,2.0,3.0])\n",
        "res_arr = np.add( arr1 , arr2 )\n",
        "print(res_arr)"
      ],
      "execution_count": 0,
      "outputs": []
    },
    {
      "cell_type": "markdown",
      "metadata": {
        "id": "KKd-1aFu8r-q",
        "colab_type": "text"
      },
      "source": [
        "### Exercise 06: Multiplication of two arrays [1, 2, 3, 4] [10, 20, 30, 40]"
      ]
    },
    {
      "cell_type": "code",
      "metadata": {
        "id": "J99PVyJp83Ov",
        "colab_type": "code",
        "colab": {}
      },
      "source": [
        "array1 = [1, 2, 3, 4] \n",
        "array2 = [10, 20, 30, 40]\n",
        "np.multiply(array1 , array2)"
      ],
      "execution_count": 0,
      "outputs": []
    },
    {
      "cell_type": "markdown",
      "metadata": {
        "id": "Y5ymkBwlcTdv",
        "colab_type": "text"
      },
      "source": [
        "### Exercise 07: Matrix multiplication for 2-D array"
      ]
    },
    {
      "cell_type": "code",
      "metadata": {
        "id": "EDEXVZnPcfNX",
        "colab_type": "code",
        "colab": {}
      },
      "source": [
        "a = np.array([[1, 0],\n",
        "             [0, 1]])\n",
        "\n",
        "b = np.array([[4, 1],\n",
        "              [2, 2]])\n",
        "\n",
        "np.multiply(a ,b)"
      ],
      "execution_count": 0,
      "outputs": []
    },
    {
      "cell_type": "markdown",
      "metadata": {
        "id": "uGPHkwjo85JM",
        "colab_type": "text"
      },
      "source": [
        "### Exercise 08: Transpose the given array [[0, 1, 2, 3] [4, 5, 6, 7] [8, 9, 10, 11]]"
      ]
    },
    {
      "cell_type": "code",
      "metadata": {
        "id": "rY3h_q3t9Fzk",
        "colab_type": "code",
        "colab": {}
      },
      "source": [
        "given_array = np.array([[0, 1, 2, 3] ,[4, 5, 6, 7] ,[8, 9, 10, 11]])\n",
        "np.transpose(given_array)"
      ],
      "execution_count": 0,
      "outputs": []
    },
    {
      "cell_type": "markdown",
      "metadata": {
        "id": "jaTtufJr9Psc",
        "colab_type": "text"
      },
      "source": [
        "### Exercise 09: Concatenate [[1, 2], [3, 4]] and [[5, 6], [7, 8]] using numpy in axis 1"
      ]
    },
    {
      "cell_type": "code",
      "metadata": {
        "id": "BHk5Qzqe9VZZ",
        "colab_type": "code",
        "colab": {}
      },
      "source": [
        "# axis  = 1 for column wise concatenation.\n",
        "a1 = np.array( [[1, 2], [3, 4]] )\n",
        "a2 = np.array( [[5, 6], [7, 8]] )\n",
        "np.concatenate((a1, a2),axis = 1)\n"
      ],
      "execution_count": 0,
      "outputs": []
    },
    {
      "cell_type": "markdown",
      "metadata": {
        "id": "02HOmDBXzPeg",
        "colab_type": "text"
      },
      "source": [
        "### Exercise 10: Given a Multidimensional array find the following,\n",
        "\n",
        "\n",
        "1.   get second and third coloum from the given Multidimensional array\n",
        "2.   get second and third row from the given Multidimensional array\n",
        "3.   and reverse the given Multidimensional array\n"
      ]
    },
    {
      "cell_type": "code",
      "metadata": {
        "id": "krLWaqUVgDii",
        "colab_type": "code",
        "colab": {}
      },
      "source": [
        "import numpy as np\n",
        "array2D = np.array([['a','b', 'c'], ['d', 'e', 'f'], ['g', 'h', 'i']])\n",
        "\n",
        "print(array2D[0:3 , 1:2])\n",
        "print(array2D[0:3 , 2:3])\n",
        "\n",
        "print(array2D[1])\n",
        "print(array2D[2])\n",
        "\n",
        "reversed_array = np.flip(array2D)\n",
        "print(reversed_array)\n"
      ],
      "execution_count": 0,
      "outputs": []
    },
    {
      "cell_type": "markdown",
      "metadata": {
        "id": "yEp-gRtO3zOa",
        "colab_type": "text"
      },
      "source": [
        "### Exercise 11: Given a Multidimensional array find the following,\n",
        "\n",
        "\n",
        "1.   What is the average value of the second column \n",
        "2.   Calculate the Mean of the given Multidimensional array\n",
        "\n"
      ]
    },
    {
      "cell_type": "code",
      "metadata": {
        "id": "sPuOB9XpyKKq",
        "colab_type": "code",
        "colab": {}
      },
      "source": [
        "import numpy as np\n",
        "array5D = np.array([[174677, 343356, 301717, 224120, 401101],\n",
        "       [140473, 254634, 112262,  25063, 108262],\n",
        "       [375059, 406983, 208947, 115641, 296685],\n",
        "       [444899, 129585, 171318, 313094, 425041],\n",
        "       [476442,  35455, 191553, 384154,  29917]])\n",
        "\n",
        "result = np.average(array5D,1)\n",
        "result[1]"
      ],
      "execution_count": 0,
      "outputs": []
    },
    {
      "cell_type": "markdown",
      "metadata": {
        "id": "_Q86aJEsXjkQ",
        "colab_type": "text"
      },
      "source": [
        "### Exercise 12: For the given array, get the slice of the first row and display them."
      ]
    },
    {
      "cell_type": "code",
      "metadata": {
        "id": "EhFU_uj5Xic7",
        "colab_type": "code",
        "colab": {}
      },
      "source": [
        "array = np.array([[[22, 23, 24], [25, 26, 27], [28, 29, 30]],\n",
        "               [[31, 32, 33], [34, 35, 36], [37, 38, 39]],\n",
        "               [[40, 41, 42], [43, 44, 45], [46, 47, 48]]])\n",
        "\n",
        "print(array)\n",
        "\n",
        "sliced_array = array[ 0:3 , 0:1 , 0:3]\n",
        "print()\n",
        "print(\"sliced array is: \\n\\n\", sliced_array)\n"
      ],
      "execution_count": 0,
      "outputs": []
    },
    {
      "cell_type": "markdown",
      "metadata": {
        "id": "5SxjQaZEM3W3",
        "colab_type": "text"
      },
      "source": [
        "### Exercise 13: Create a 10x10 array with random values and find minimum number and maximum number along axis 1"
      ]
    },
    {
      "cell_type": "code",
      "metadata": {
        "id": "UuACbe2jNb1b",
        "colab_type": "code",
        "colab": {}
      },
      "source": [
        "#axis 1 respresents axis that runs horizontally -------------->\n",
        "\n",
        "matrix = np.random.randint(0,100,size=(10,10))\n",
        "print(matrix)\n",
        "\n",
        "print()\n",
        "print(\"minimum in each row :\" ,np.amin(matrix,axis = 1))\n",
        "print(\"maximum in each row :\" ,np.amax(matrix,axis = 1))\n",
        "\n"
      ],
      "execution_count": 0,
      "outputs": []
    },
    {
      "cell_type": "markdown",
      "metadata": {
        "id": "ctj8hr3XWwBw",
        "colab_type": "text"
      },
      "source": [
        "### Exercise 14: Create an array of the first 20 odd integers"
      ]
    },
    {
      "cell_type": "code",
      "metadata": {
        "id": "rbvkBuRdV558",
        "colab_type": "code",
        "colab": {}
      },
      "source": [
        "print(np.array(np.arange(1,40,2)))"
      ],
      "execution_count": 0,
      "outputs": []
    },
    {
      "cell_type": "markdown",
      "metadata": {
        "id": "mOLKxH_SW3Fg",
        "colab_type": "text"
      },
      "source": [
        "### Exercise 15: Create a 5x5 matrix with values 1,2,3,4 just below the diagonal"
      ]
    },
    {
      "cell_type": "code",
      "metadata": {
        "id": "JZ87PPEhW9OF",
        "colab_type": "code",
        "colab": {}
      },
      "source": [
        "\n",
        "np.diag([1,2,3,4],k=-1)\n"
      ],
      "execution_count": 0,
      "outputs": []
    },
    {
      "cell_type": "markdown",
      "metadata": {
        "id": "kph14lD5XBcm",
        "colab_type": "text"
      },
      "source": [
        "### Exercise 16: 2x+3y=13 3x+y=9 find the value of x and y."
      ]
    },
    {
      "cell_type": "code",
      "metadata": {
        "id": "ZnQk4qTuXEtU",
        "colab_type": "code",
        "colab": {}
      },
      "source": [
        "lhs = np.array([[2,3],[3,1]])\n",
        "rhs = np.array([13,9])\n",
        "ans = np.linalg.solve(lhs,rhs)\n",
        "print(ans)"
      ],
      "execution_count": 0,
      "outputs": []
    },
    {
      "cell_type": "markdown",
      "metadata": {
        "id": "4mY7BD0PXH5y",
        "colab_type": "text"
      },
      "source": [
        "### Exercise 17: Compute $e^x$, element-wise for a sample array"
      ]
    },
    {
      "cell_type": "code",
      "metadata": {
        "id": "5qCVqKKrXM8j",
        "colab_type": "code",
        "colab": {}
      },
      "source": [
        "x = np.array([1,2,3,4,5,6])\n",
        "\n",
        "answer = np.exp(x)\n",
        "print(\"e^x values for given array is :\",answer)"
      ],
      "execution_count": 0,
      "outputs": []
    },
    {
      "cell_type": "code",
      "metadata": {
        "id": "VFzffWfGfb_n",
        "colab_type": "code",
        "colab": {}
      },
      "source": [
        ""
      ],
      "execution_count": 0,
      "outputs": []
    }
  ]
}