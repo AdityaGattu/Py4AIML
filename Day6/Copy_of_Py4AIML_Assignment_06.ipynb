{
  "nbformat": 4,
  "nbformat_minor": 0,
  "metadata": {
    "colab": {
      "name": "Copy of Py4AIML Assignment 06.ipynb",
      "provenance": [],
      "private_outputs": true,
      "collapsed_sections": []
    },
    "kernelspec": {
      "name": "python3",
      "display_name": "Python 3"
    }
  },
  "cells": [
    {
      "cell_type": "markdown",
      "metadata": {
        "id": "bOdqSM9s6ad8",
        "colab_type": "text"
      },
      "source": [
        "## Sales Prediction Using Linear Regression"
      ]
    },
    {
      "cell_type": "markdown",
      "metadata": {
        "id": "CpGR6lfo6yDb",
        "colab_type": "text"
      },
      "source": [
        "### Problem Statement:\n",
        "Build a model which predicts sales based on the money spent on different platforms for marketing."
      ]
    },
    {
      "cell_type": "code",
      "metadata": {
        "id": "QNcZfziI7gnC",
        "colab_type": "code",
        "colab": {}
      },
      "source": [
        "### Run the cell to download the data\n",
        "### you can also take any other dateset of your own and try\n",
        "!wget https://cdn.talentsprint.com/aiml/PY4AIML/advertising.csv"
      ],
      "execution_count": 0,
      "outputs": []
    },
    {
      "cell_type": "markdown",
      "metadata": {
        "id": "TH_O7_sW7Cuu",
        "colab_type": "text"
      },
      "source": [
        "### Exercise 1: Load and understand the data"
      ]
    },
    {
      "cell_type": "code",
      "metadata": {
        "id": "0FPFinQL6TVJ",
        "colab_type": "code",
        "colab": {}
      },
      "source": [
        "import pandas as pd\n",
        "data = pd.read_csv('advertising.csv')\n",
        "data\n"
      ],
      "execution_count": 0,
      "outputs": []
    },
    {
      "cell_type": "markdown",
      "metadata": {
        "id": "390Id2CC7VMC",
        "colab_type": "text"
      },
      "source": [
        "### Exercise 2: Describe the data and check for the null values(if any)"
      ]
    },
    {
      "cell_type": "code",
      "metadata": {
        "id": "nbrbdOkt7Y6P",
        "colab_type": "code",
        "colab": {}
      },
      "source": [
        "data.describe()\n",
        "# data.isnull() --> returns true if  it is null value"
      ],
      "execution_count": 0,
      "outputs": []
    },
    {
      "cell_type": "code",
      "metadata": {
        "id": "G3nlKI7lGg1Q",
        "colab_type": "code",
        "colab": {}
      },
      "source": [
        "import seaborn as sns\n",
        "sns.boxplot(x=data['TV'])"
      ],
      "execution_count": 0,
      "outputs": []
    },
    {
      "cell_type": "markdown",
      "metadata": {
        "id": "O_g9yUuk8NGc",
        "colab_type": "text"
      },
      "source": [
        "### Exercise 3: Split the data into train and test set"
      ]
    },
    {
      "cell_type": "code",
      "metadata": {
        "id": "TskqqRB48Vsf",
        "colab_type": "code",
        "colab": {}
      },
      "source": [
        "x = data.iloc[:, [0,1,2]].values\n",
        "y = data.iloc[:, -1].values\n",
        "from sklearn.model_selection import train_test_split\n",
        "x_train,x_test,y_train,y_test = train_test_split(x,y,test_size=0.2,random_state=0)"
      ],
      "execution_count": 0,
      "outputs": []
    },
    {
      "cell_type": "markdown",
      "metadata": {
        "id": "QRlNUQ-18YPd",
        "colab_type": "text"
      },
      "source": [
        "### Exercise 4: Visualize the train and test data"
      ]
    },
    {
      "cell_type": "code",
      "metadata": {
        "id": "5lHIRMjx8dKz",
        "colab_type": "code",
        "colab": {}
      },
      "source": [
        "#print(x_train)\n",
        "#print(x_test)\n",
        "#print(y_train)\n",
        "print(y_test)\n"
      ],
      "execution_count": 0,
      "outputs": []
    },
    {
      "cell_type": "markdown",
      "metadata": {
        "id": "R4LoSc2w8kpm",
        "colab_type": "text"
      },
      "source": [
        "### Exercise 5: Apply the Linear Regression Model"
      ]
    },
    {
      "cell_type": "code",
      "metadata": {
        "id": "cQ9UE4d_8rBl",
        "colab_type": "code",
        "colab": {}
      },
      "source": [
        "from sklearn.linear_model import LinearRegression\n",
        "lr = LinearRegression()\n",
        "lr.fit(x_train,y_train)\n",
        "y_pred =  lr.predict(x_test)\n",
        "df = pd.DataFrame({'Actual Values':y_test,'Predicted vlaues':y_pred})\n",
        "print(df)"
      ],
      "execution_count": 0,
      "outputs": []
    },
    {
      "cell_type": "markdown",
      "metadata": {
        "id": "cs_wZiWX82Oi",
        "colab_type": "text"
      },
      "source": [
        "### Exercise 6: Calculate the RMSE value of the model"
      ]
    },
    {
      "cell_type": "code",
      "metadata": {
        "id": "X1ZH9UVi89hU",
        "colab_type": "code",
        "colab": {}
      },
      "source": [
        "import numpy as np\n",
        "\n",
        "from sklearn.metrics import mean_squared_error,r2_score\n",
        "print('Mean Squarred Error ',np.sqrt(mean_squared_error(y_test,y_pred)))\n",
        "\n",
        "print('r2 score', r2_score(y_test,y_pred))\n"
      ],
      "execution_count": 0,
      "outputs": []
    },
    {
      "cell_type": "code",
      "metadata": {
        "id": "YJkdZDr2D7E2",
        "colab_type": "code",
        "colab": {}
      },
      "source": [
        "print('The intercept is : ',lr.intercept_)\n",
        "print('The lr coef is : ',lr.coef_)\n",
        "import matplotlib.pyplot as plt\n",
        "plt.plot(x,y,'o')\n",
        "plt.show()"
      ],
      "execution_count": 0,
      "outputs": []
    },
    {
      "cell_type": "code",
      "metadata": {
        "id": "L9Ewx2EqEPO1",
        "colab_type": "code",
        "colab": {}
      },
      "source": [
        "from sklearn.model_selection import cross_val_predict\n",
        "predicted = cross_val_predict(lr, x, y, cv=10)\n",
        "\n",
        "fig, ax = plt.subplots()\n",
        "ax.scatter(y, predicted, edgecolors=(0, 0, 0))\n",
        "ax.plot([y.min(), y.max()], [y.min(), y.max()], 'k--', lw=4)\n",
        "ax.set_xlabel('Measured')\n",
        "ax.set_ylabel('Predicted')\n",
        "plt.show()"
      ],
      "execution_count": 0,
      "outputs": []
    },
    {
      "cell_type": "code",
      "metadata": {
        "id": "dSHiOcHgFfI3",
        "colab_type": "code",
        "colab": {}
      },
      "source": [
        ""
      ],
      "execution_count": 0,
      "outputs": []
    }
  ]
}