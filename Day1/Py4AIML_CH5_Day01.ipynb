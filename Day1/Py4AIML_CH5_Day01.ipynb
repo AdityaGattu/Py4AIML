{
  "nbformat": 4,
  "nbformat_minor": 0,
  "metadata": {
    "colab": {
      "name": "Py4AIML-CH5-Day01.ipynb",
      "provenance": []
    },
    "kernelspec": {
      "name": "python3",
      "display_name": "Python 3"
    }
  },
  "cells": [
    {
      "cell_type": "markdown",
      "metadata": {
        "id": "Ug09Lka9AgQz",
        "colab_type": "text"
      },
      "source": [
        "\n",
        "\n",
        "*   Python was developed in the late 1980's by Guido van Rossum\n",
        "*   Python is a high-level, interpreted, interactive and object-oriented language\n",
        "*    elegant  syntax  that  enables  writing  very  easy  to  readprograms\n",
        "*  Comes with a large standard library support\n",
        "*  All basic data types are available:  numbers (\n",
        "oating point, complex,and unlimited-length integers), strings.\n",
        "*  Higher level containers such as lists, dictionaries and sets are part ofthe core language \n",
        "*  Python supports object-oriented programming with classes and mul-tiple inheritance.\n",
        "*  Modules and packages are the mechanisms to design, build, and dis-tribute applications and libraries.\n",
        "*  Data  types  are  strongly  and  dynamically  typed.  \n",
        "*  Provides advanced programming features such as generators and listcomprehensions."
      ]
    },
    {
      "cell_type": "markdown",
      "metadata": {
        "id": "2ubOFR_mAthu",
        "colab_type": "text"
      },
      "source": [
        "**To check the version of python**"
      ]
    },
    {
      "cell_type": "code",
      "metadata": {
        "id": "mzGJKMuZij-a",
        "colab_type": "code",
        "outputId": "1303926d-9fa7-4b36-ae5f-b8e5a2a71cc1",
        "colab": {
          "base_uri": "https://localhost:8080/",
          "height": 34
        }
      },
      "source": [
        "!python --version"
      ],
      "execution_count": 0,
      "outputs": [
        {
          "output_type": "stream",
          "text": [
            "Python 3.6.9\n"
          ],
          "name": "stdout"
        }
      ]
    },
    {
      "cell_type": "markdown",
      "metadata": {
        "id": "Xk8nIggvAzcT",
        "colab_type": "text"
      },
      "source": [
        "**This is my First python session with TalentSprint**"
      ]
    },
    {
      "cell_type": "code",
      "metadata": {
        "id": "9_7GjL73A333",
        "colab_type": "code",
        "outputId": "6938726f-f213-4052-c991-32352a0a2968",
        "colab": {
          "base_uri": "https://localhost:8080/",
          "height": 34
        }
      },
      "source": [
        "print(\"My first python code\")"
      ],
      "execution_count": 0,
      "outputs": [
        {
          "output_type": "stream",
          "text": [
            "My first python code\n"
          ],
          "name": "stdout"
        }
      ]
    },
    {
      "cell_type": "markdown",
      "metadata": {
        "id": "K4TssS6yA8Ns",
        "colab_type": "text"
      },
      "source": [
        "**Building blocks of Python Program**\n",
        "* Functions\n",
        "* Variables\n",
        "* Expressions\n",
        "* Statements\n",
        "* Block\n",
        "* Comments"
      ]
    },
    {
      "cell_type": "code",
      "metadata": {
        "id": "H-Fj8OyvlZjH",
        "colab_type": "code",
        "outputId": "14a86570-7953-48df-dadf-765ddf77a181",
        "colab": {
          "base_uri": "https://localhost:8080/",
          "height": 34
        }
      },
      "source": [
        "5\n",
        "type(5)"
      ],
      "execution_count": 0,
      "outputs": [
        {
          "output_type": "execute_result",
          "data": {
            "text/plain": [
              "int"
            ]
          },
          "metadata": {
            "tags": []
          },
          "execution_count": 2
        }
      ]
    },
    {
      "cell_type": "code",
      "metadata": {
        "id": "jC5Pl79Gl2iz",
        "colab_type": "code",
        "outputId": "49793f0a-7218-403b-d665-9ca216f7ddec",
        "colab": {
          "base_uri": "https://localhost:8080/",
          "height": 34
        }
      },
      "source": [
        "num = 5\n",
        "num1 = 5.25\n",
        "name = \"Indira\"\n",
        "org = 'TalentSprint'\n",
        "marks = [1, 5.2, \"Python\"]\n",
        "tup = (1, 5.2, 'PY4AIML')\n",
        "a = None\n",
        "Expression = True\n",
        "print(type(Expression))"
      ],
      "execution_count": 0,
      "outputs": [
        {
          "output_type": "stream",
          "text": [
            "<class 'bool'>\n"
          ],
          "name": "stdout"
        }
      ]
    },
    {
      "cell_type": "markdown",
      "metadata": {
        "id": "1gae2u1CBDA3",
        "colab_type": "text"
      },
      "source": [
        "**Naming Rules in Python**\n",
        "\n",
        "* Must begin with a alphabet(a - z, A - Z) or underscore().\n",
        "* Other characters can be alphabets, digits or underscore().\n",
        "* Python is case sensitive; uppercase and lower case alphabets are treated as distinct"
      ]
    },
    {
      "cell_type": "code",
      "metadata": {
        "id": "ENR78Tc5l8uw",
        "colab_type": "code",
        "outputId": "a9261d7c-9393-4d14-eca7-e21f89dcc7e0",
        "colab": {
          "base_uri": "https://localhost:8080/",
          "height": 34
        }
      },
      "source": [
        "Py4aiml = 120\n",
        "print(Py4aiml)"
      ],
      "execution_count": 0,
      "outputs": [
        {
          "output_type": "stream",
          "text": [
            "120\n"
          ],
          "name": "stdout"
        }
      ]
    },
    {
      "cell_type": "code",
      "metadata": {
        "id": "IYw5u4bgl-ju",
        "colab_type": "code",
        "outputId": "a1349e0d-9c59-4e3b-9188-51e2120caa10",
        "colab": {
          "base_uri": "https://localhost:8080/",
          "height": 136
        }
      },
      "source": [
        "add = num + num1\n",
        "print(add)\n",
        "sub = num1 - num\n",
        "mul = num * num1\n",
        "div = num1 / num\n",
        "rem = 10 % 5\n",
        "power = 2 ** 3\n",
        "print(power)\n",
        "print(rem)\n",
        "print(rem)\n",
        "print(sub)\n",
        "print(mul)\n",
        "print(div)"
      ],
      "execution_count": 0,
      "outputs": [
        {
          "output_type": "stream",
          "text": [
            "10.25\n",
            "8\n",
            "0\n",
            "0\n",
            "0.25\n",
            "26.25\n",
            "1.05\n"
          ],
          "name": "stdout"
        }
      ]
    },
    {
      "cell_type": "code",
      "metadata": {
        "id": "LUB3Zmc4oj6M",
        "colab_type": "code",
        "outputId": "8633ab3d-c40e-4c6a-dc66-62132f7d63b2",
        "colab": {
          "base_uri": "https://localhost:8080/",
          "height": 34
        }
      },
      "source": [
        "int_div = 10 // 2\n",
        "print(int_div)"
      ],
      "execution_count": 0,
      "outputs": [
        {
          "output_type": "stream",
          "text": [
            "5\n"
          ],
          "name": "stdout"
        }
      ]
    },
    {
      "cell_type": "code",
      "metadata": {
        "id": "M-EUwXN2pQQV",
        "colab_type": "code",
        "outputId": "b14944f6-832e-435d-b451-d06500fbe5b0",
        "colab": {
          "base_uri": "https://localhost:8080/",
          "height": 34
        }
      },
      "source": [
        "print(5 <= 4)"
      ],
      "execution_count": 0,
      "outputs": [
        {
          "output_type": "stream",
          "text": [
            "False\n"
          ],
          "name": "stdout"
        }
      ]
    },
    {
      "cell_type": "markdown",
      "metadata": {
        "id": "YeuQ9fBWBRuu",
        "colab_type": "text"
      },
      "source": [
        "**if...elif..else**"
      ]
    },
    {
      "cell_type": "code",
      "metadata": {
        "id": "tDyddmRSqtVC",
        "colab_type": "code",
        "outputId": "e4dff9c0-1c4a-4653-8c8e-610fc0ebb606",
        "colab": {
          "base_uri": "https://localhost:8080/",
          "height": 34
        }
      },
      "source": [
        "num = 0 #to check if number is positive or not\n",
        "if num > 0:\n",
        "  print(\"positive number\")\n",
        "elif num == 0:\n",
        "  print(\"number is zero\")\n",
        "else:\n",
        "  print(\"negative number\")"
      ],
      "execution_count": 0,
      "outputs": [
        {
          "output_type": "stream",
          "text": [
            "number is zero\n"
          ],
          "name": "stdout"
        }
      ]
    },
    {
      "cell_type": "markdown",
      "metadata": {
        "id": "r8grUbq4talW",
        "colab_type": "text"
      },
      "source": [
        "\n",
        "**Find the grade of a student based on a marks.\n",
        "using if...elif and else**"
      ]
    },
    {
      "cell_type": "code",
      "metadata": {
        "id": "L-lsT0tnrGNR",
        "colab_type": "code",
        "outputId": "d9c691e7-e7c3-4dae-f421-00c7bd0e4520",
        "colab": {
          "base_uri": "https://localhost:8080/",
          "height": 34
        }
      },
      "source": [
        "marks  =  75\n",
        "if marks >= 80:\n",
        "  print(\" Grade  A\")\n",
        "elif marks >=  60:\n",
        "  print( \" Grade  B\" )\n",
        "elif marks >= 40:\n",
        "  print( \" Grade  C\" )\n",
        "else:\n",
        "  print( \" F a i l e d \" )"
      ],
      "execution_count": 0,
      "outputs": [
        {
          "output_type": "stream",
          "text": [
            " Grade  B\n"
          ],
          "name": "stdout"
        }
      ]
    },
    {
      "cell_type": "code",
      "metadata": {
        "id": "EwcYoYTCtWRe",
        "colab_type": "code",
        "outputId": "28e5d521-61f2-46b1-ca12-8234ffc0ad5a",
        "colab": {
          "base_uri": "https://localhost:8080/",
          "height": 102
        }
      },
      "source": [
        "num = 11\n",
        "while num > 0:\n",
        "  if num % 2 == 0:\n",
        "    print(num)\n",
        "  num -= 1\n"
      ],
      "execution_count": 0,
      "outputs": [
        {
          "output_type": "stream",
          "text": [
            "10\n",
            "8\n",
            "6\n",
            "4\n",
            "2\n"
          ],
          "name": "stdout"
        }
      ]
    },
    {
      "cell_type": "markdown",
      "metadata": {
        "id": "1yJw8jRYBhQK",
        "colab_type": "text"
      },
      "source": [
        "Sequence Data Type - **STRING**\n",
        "\n",
        "\n",
        "\n",
        "**Accessing Characters In String** and  **Negative indices**\n",
        "\n",
        "We  can  access  a  character  from  the  string  by  specifying  the  index  of  thecharacter.  Index starts from '0' indicates the beginning of the string andworking their way from -1 at the end\n",
        "\n",
        "We can access the subsets of a string using slice operator ([:])  with indexesstarting at 0 in the beginning of the string and working their way from -1at the end\n",
        "\n",
        "python gives a convenientshorthand:  -1 is the index of the last element, -2 is the index of the last butone and so on..."
      ]
    },
    {
      "cell_type": "code",
      "metadata": {
        "id": "_lb7m4Wftsbk",
        "colab_type": "code",
        "outputId": "035e84d8-baa0-43cf-ebb6-030ca9209bb0",
        "colab": {
          "base_uri": "https://localhost:8080/",
          "height": 34
        }
      },
      "source": [
        "name = 'Indira Priyadarshini Talasila'\n",
        "surname = 'Talasila'\n",
        "Name = name + '1'\n",
        "print(Name)"
      ],
      "execution_count": 0,
      "outputs": [
        {
          "output_type": "stream",
          "text": [
            "Indira Priyadarshini Talasila1\n"
          ],
          "name": "stdout"
        }
      ]
    },
    {
      "cell_type": "code",
      "metadata": {
        "id": "L_BMJWp7wgjl",
        "colab_type": "code",
        "outputId": "a643ce29-9891-484a-8280-b81c5aef8929",
        "colab": {
          "base_uri": "https://localhost:8080/",
          "height": 34
        }
      },
      "source": [
        "for ch in name:\n",
        "  print(ch, end=\" \")"
      ],
      "execution_count": 0,
      "outputs": [
        {
          "output_type": "stream",
          "text": [
            "I n d i r a   P r i y a d a r s h i n i   T a l a s i l a "
          ],
          "name": "stdout"
        }
      ]
    },
    {
      "cell_type": "code",
      "metadata": {
        "id": "9PMAVXQxw_0c",
        "colab_type": "code",
        "outputId": "26f2ecef-b77c-4226-a3db-d3e7b96e0271",
        "colab": {
          "base_uri": "https://localhost:8080/",
          "height": 102
        }
      },
      "source": [
        "for num in range(1, 11, 2):\n",
        "  print(num)"
      ],
      "execution_count": 0,
      "outputs": [
        {
          "output_type": "stream",
          "text": [
            "1\n",
            "3\n",
            "5\n",
            "7\n",
            "9\n"
          ],
          "name": "stdout"
        }
      ]
    },
    {
      "cell_type": "markdown",
      "metadata": {
        "id": "alvcoAdnBtaw",
        "colab_type": "text"
      },
      "source": [
        "**User defined Functions**"
      ]
    },
    {
      "cell_type": "code",
      "metadata": {
        "id": "7439QHOTytWw",
        "colab_type": "code",
        "outputId": "d79dcce8-5ad7-4d3c-a892-c92e982c20fd",
        "colab": {
          "base_uri": "https://localhost:8080/",
          "height": 34
        }
      },
      "source": [
        "def cube(num):\n",
        "  return num ** 3\n",
        "\n",
        "def is_even(num):\n",
        "  return num % 2 == 0\n",
        "\n",
        "print(cube(2))"
      ],
      "execution_count": 0,
      "outputs": [
        {
          "output_type": "stream",
          "text": [
            "8\n"
          ],
          "name": "stdout"
        }
      ]
    },
    {
      "cell_type": "code",
      "metadata": {
        "id": "E5UE5xW4zts2",
        "colab_type": "code",
        "outputId": "3a275045-806e-4d3e-ac92-8b53cb22efdd",
        "colab": {
          "base_uri": "https://localhost:8080/",
          "height": 102
        }
      },
      "source": [
        "num = 1\n",
        "while num < 11:\n",
        "  if is_even(num):\n",
        "    print(cube(num))\n",
        "  num += 1\n"
      ],
      "execution_count": 0,
      "outputs": [
        {
          "output_type": "stream",
          "text": [
            "8\n",
            "64\n",
            "216\n",
            "512\n",
            "1000\n"
          ],
          "name": "stdout"
        }
      ]
    },
    {
      "cell_type": "code",
      "metadata": {
        "id": "q2-bG4M00bwd",
        "colab_type": "code",
        "outputId": "5236a1b9-dad2-46a8-d6e1-3a1023852650",
        "colab": {
          "base_uri": "https://localhost:8080/",
          "height": 34
        }
      },
      "source": [
        "def func(x):\n",
        "  return x + 1\n",
        "  \n",
        "f = func\n",
        "print(f(2) + func(2))"
      ],
      "execution_count": 0,
      "outputs": [
        {
          "output_type": "stream",
          "text": [
            "6\n"
          ],
          "name": "stdout"
        }
      ]
    },
    {
      "cell_type": "code",
      "metadata": {
        "id": "1icdSD2_1TAj",
        "colab_type": "code",
        "outputId": "5403d26a-bfaf-4a3a-82c6-c63304da90da",
        "colab": {
          "base_uri": "https://localhost:8080/",
          "height": 34
        }
      },
      "source": [
        "def ping(i):\n",
        "  if i > 0:\n",
        "    return pong(i - 1)\n",
        "  return \"0\"\n",
        "\n",
        "def pong(i):\n",
        "  if i > 0:\n",
        "    return ping(i - 1)\n",
        "  return \"1\"\n",
        "\n",
        "print(ping(29))"
      ],
      "execution_count": 0,
      "outputs": [
        {
          "output_type": "stream",
          "text": [
            "1\n"
          ],
          "name": "stdout"
        }
      ]
    },
    {
      "cell_type": "code",
      "metadata": {
        "id": "-V3JmxZT3hLJ",
        "colab_type": "code",
        "outputId": "569e4973-75bb-4e19-e594-247a3151141b",
        "colab": {
          "base_uri": "https://localhost:8080/",
          "height": 34
        }
      },
      "source": [
        "name = \"indira\"\n",
        "'a' not in name"
      ],
      "execution_count": 0,
      "outputs": [
        {
          "output_type": "execute_result",
          "data": {
            "text/plain": [
              "False"
            ]
          },
          "metadata": {
            "tags": []
          },
          "execution_count": 38
        }
      ]
    },
    {
      "cell_type": "code",
      "metadata": {
        "id": "nzOpLVSP3mPU",
        "colab_type": "code",
        "colab": {}
      },
      "source": [
        ""
      ],
      "execution_count": 0,
      "outputs": []
    }
  ]
}